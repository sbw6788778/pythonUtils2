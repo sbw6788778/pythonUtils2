{
 "cells": [
  {
   "cell_type": "code",
   "execution_count": 52,
   "metadata": {},
   "outputs": [],
   "source": [
    "import jieba\n",
    "\n",
    "\n",
    "STOPWORDS = [u'的', u'地', u'得', u'而', u'了', u'在', u'是', u'我', u'有', u'和', u'就',  u'不', u'人', u'都', u'一', u'一个', u'上', u'也', u'很', u'到', u'说', u'要', u'去', u'你',  u'会', u'着', u'没有', u'看', u'好', u'自己', u'这']\n",
    "PUNCTUATIONS = [u'。', u'，', u'“', u'”', u'…', u'？', u'！', u'、', u'；', u'（', u'）']\n",
    "\n",
    "f_in = open('h://a.txt',encoding = \"UTF-8\")\n",
    "f_out = open('h://b.txt', 'w')\n",
    "\n"
   ]
  },
  {
   "cell_type": "code",
   "execution_count": 53,
   "metadata": {},
   "outputs": [],
   "source": [
    "dic={}\n",
    "for l in f_in:\n",
    "    seg_list = jieba.cut(l)\n",
    "    \n",
    "    for seg in seg_list:\n",
    "        if seg not in STOPWORDS and seg not in PUNCTUATIONS:\n",
    "            if(dic.get(seg) is  None):\n",
    "                dic[seg]=1\n",
    "            else:\n",
    "                dic[seg]=dic[seg]+1\n",
    "\n"
   ]
  },
  {
   "cell_type": "code",
   "execution_count": 54,
   "metadata": {},
   "outputs": [],
   "source": [
    "import pandas as pd"
   ]
  },
  {
   "cell_type": "code",
   "execution_count": 55,
   "metadata": {},
   "outputs": [
    {
     "name": "stdout",
     "output_type": "stream",
     "text": [
      "字        1\n",
      "可能       1\n",
      "物质       1\n",
      "坚实       1\n",
      "要务       1\n",
      "        ..\n",
      "全面      76\n",
      "社会主义    81\n",
      "坚持      92\n",
      "\\n      98\n",
      "发展      98\n",
      "Length: 1875, dtype: int64\n"
     ]
    }
   ],
   "source": [
    "s=pd.Series(dic)\n",
    "print(s.sort_values())"
   ]
  },
  {
   "cell_type": "code",
   "execution_count": 56,
   "metadata": {},
   "outputs": [
    {
     "name": "stdout",
     "output_type": "stream",
     "text": [
      "发展      98\n",
      "\\n      98\n",
      "坚持      92\n",
      "社会主义    81\n",
      "全面      76\n",
      "人民      75\n",
      "中国      71\n",
      "我们      69\n",
      "新       68\n",
      "建设      62\n",
      "国家      59\n",
      "推进      54\n",
      "现代化     50\n",
      "体系      45\n",
      "安全      43\n",
      "党       35\n",
      "时代      34\n",
      "战略      32\n",
      "为       32\n",
      "特色      32\n",
      "dtype: int64\n"
     ]
    }
   ],
   "source": [
    "print(s.sort_values(ascending = False)[0:20])"
   ]
  },
  {
   "cell_type": "code",
   "execution_count": null,
   "metadata": {},
   "outputs": [],
   "source": []
  }
 ],
 "metadata": {
  "kernelspec": {
   "display_name": "Python 3",
   "language": "python",
   "name": "python3"
  },
  "language_info": {
   "codemirror_mode": {
    "name": "ipython",
    "version": 3
   },
   "file_extension": ".py",
   "mimetype": "text/x-python",
   "name": "python",
   "nbconvert_exporter": "python",
   "pygments_lexer": "ipython3",
   "version": "3.8.3"
  }
 },
 "nbformat": 4,
 "nbformat_minor": 4
}
