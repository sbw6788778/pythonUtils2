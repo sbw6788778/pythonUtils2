{
 "cells": [
  {
   "cell_type": "code",
   "execution_count": 1,
   "metadata": {},
   "outputs": [],
   "source": [
    "import pandas as pd\n",
    "import vobject\n",
    "def readFileAndPrase(fileName):\n",
    "    text=''\n",
    "    with open(fileName,encoding='utf-8') as file:\n",
    "        text=file.read()\n",
    "    vs=vobject.readComponents(text)\n",
    "    new_key=[]\n",
    "    for v in vs:\n",
    "        name=v.fn.value\n",
    "        tel=v.tel.value\n",
    "        new_key.append([name,tel.replace(' ','')])\n",
    "    return new_key\n",
    "def writeCsv(filePath,messegeList):\n",
    "    file=pd.DataFrame(messegeList)\n",
    "    file.to_csv(\"d://x.csv\",encoding='gbk')\n",
    "if __name__==\"__main__\":\n",
    "    UserMapList=readFileAndPrase('d://00002.vcf')\n",
    "    writeCsv('',UserMapList)"
   ]
  }
 ],
 "metadata": {
  "kernelspec": {
   "display_name": "Python 3",
   "language": "python",
   "name": "python3"
  },
  "language_info": {
   "codemirror_mode": {
    "name": "ipython",
    "version": 3
   },
   "file_extension": ".py",
   "mimetype": "text/x-python",
   "name": "python",
   "nbconvert_exporter": "python",
   "pygments_lexer": "ipython3",
   "version": "3.6.2"
  }
 },
 "nbformat": 4,
 "nbformat_minor": 2
}
